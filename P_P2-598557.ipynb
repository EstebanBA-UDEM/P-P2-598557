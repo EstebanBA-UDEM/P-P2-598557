{
 "cells": [
  {
   "cell_type": "markdown",
   "metadata": {},
   "source": [
    "<h3>Jeus Esteban Bustamante Apodaca 598557</h3>\n",
    "<h3>P P2. Clasificación</h3>\n",
    "\"Doy mi palabra de que he realizado este proyecto con integridad academica\"\n"
   ]
  },
  {
   "cell_type": "markdown",
   "metadata": {},
   "source": [
    "<h3>1. Importa los datos de entrenamiento a tu ambiente de trabajo. Explora los datos: revisa si\n",
    "se cuenta con variables cualitativas y/o cuantitativas, si se tienen huecos, la cantidad de\n",
    "variables que se tiene, etc. No necesitas hacer una limpieza o preprocesamiento de la\n",
    "base de datos, pero puedes hacerlo si así lo deseas</h3>"
   ]
  },
  {
   "cell_type": "code",
   "execution_count": 46,
   "metadata": {},
   "outputs": [
    {
     "name": "stdout",
     "output_type": "stream",
     "text": [
      "############ Primeras filas de los datos de entrenamiento: ############\n",
      "  PassengerId HomePlanet CryoSleep  Cabin  Destination   Age    VIP  \\\n",
      "0     0001_01     Europa     False  B/0/P  TRAPPIST-1e  39.0  False   \n",
      "1     0002_01      Earth     False  F/0/S  TRAPPIST-1e  24.0  False   \n",
      "2     0003_01     Europa     False  A/0/S  TRAPPIST-1e  58.0   True   \n",
      "3     0003_02     Europa     False  A/0/S  TRAPPIST-1e  33.0  False   \n",
      "4     0004_01      Earth     False  F/1/S  TRAPPIST-1e  16.0  False   \n",
      "\n",
      "   RoomService  FoodCourt  ShoppingMall     Spa  VRDeck               Name  \\\n",
      "0          0.0        0.0           0.0     0.0     0.0    Maham Ofracculy   \n",
      "1        109.0        9.0          25.0   549.0    44.0       Juanna Vines   \n",
      "2         43.0     3576.0           0.0  6715.0    49.0      Altark Susent   \n",
      "3          0.0     1283.0         371.0  3329.0   193.0       Solam Susent   \n",
      "4        303.0       70.0         151.0   565.0     2.0  Willy Santantines   \n",
      "\n",
      "   Transported  \n",
      "0        False  \n",
      "1         True  \n",
      "2        False  \n",
      "3        False  \n",
      "4         True  \n",
      "############ Informacion de los datos de entrenamiento: ############\n",
      "<class 'pandas.core.frame.DataFrame'>\n",
      "RangeIndex: 8693 entries, 0 to 8692\n",
      "Data columns (total 14 columns):\n",
      " #   Column        Non-Null Count  Dtype  \n",
      "---  ------        --------------  -----  \n",
      " 0   PassengerId   8693 non-null   object \n",
      " 1   HomePlanet    8492 non-null   object \n",
      " 2   CryoSleep     8476 non-null   object \n",
      " 3   Cabin         8494 non-null   object \n",
      " 4   Destination   8511 non-null   object \n",
      " 5   Age           8514 non-null   float64\n",
      " 6   VIP           8490 non-null   object \n",
      " 7   RoomService   8512 non-null   float64\n",
      " 8   FoodCourt     8510 non-null   float64\n",
      " 9   ShoppingMall  8485 non-null   float64\n",
      " 10  Spa           8510 non-null   float64\n",
      " 11  VRDeck        8505 non-null   float64\n",
      " 12  Name          8493 non-null   object \n",
      " 13  Transported   8693 non-null   bool   \n",
      "dtypes: bool(1), float64(6), object(7)\n",
      "memory usage: 891.5+ KB\n",
      "None\n",
      "############ Resumen estadistico: ############\n",
      "       PassengerId HomePlanet CryoSleep    Cabin  Destination          Age  \\\n",
      "count         8693       8492      8476     8494         8511  8514.000000   \n",
      "unique        8693          3         2     6560            3          NaN   \n",
      "top        9280_02      Earth     False  G/734/S  TRAPPIST-1e          NaN   \n",
      "freq             1       4602      5439        8         5915          NaN   \n",
      "mean           NaN        NaN       NaN      NaN          NaN    28.827930   \n",
      "std            NaN        NaN       NaN      NaN          NaN    14.489021   \n",
      "min            NaN        NaN       NaN      NaN          NaN     0.000000   \n",
      "25%            NaN        NaN       NaN      NaN          NaN    19.000000   \n",
      "50%            NaN        NaN       NaN      NaN          NaN    27.000000   \n",
      "75%            NaN        NaN       NaN      NaN          NaN    38.000000   \n",
      "max            NaN        NaN       NaN      NaN          NaN    79.000000   \n",
      "\n",
      "          VIP   RoomService     FoodCourt  ShoppingMall           Spa  \\\n",
      "count    8490   8512.000000   8510.000000   8485.000000   8510.000000   \n",
      "unique      2           NaN           NaN           NaN           NaN   \n",
      "top     False           NaN           NaN           NaN           NaN   \n",
      "freq     8291           NaN           NaN           NaN           NaN   \n",
      "mean      NaN    224.687617    458.077203    173.729169    311.138778   \n",
      "std       NaN    666.717663   1611.489240    604.696458   1136.705535   \n",
      "min       NaN      0.000000      0.000000      0.000000      0.000000   \n",
      "25%       NaN      0.000000      0.000000      0.000000      0.000000   \n",
      "50%       NaN      0.000000      0.000000      0.000000      0.000000   \n",
      "75%       NaN     47.000000     76.000000     27.000000     59.000000   \n",
      "max       NaN  14327.000000  29813.000000  23492.000000  22408.000000   \n",
      "\n",
      "              VRDeck         Name Transported  \n",
      "count    8505.000000         8493        8693  \n",
      "unique           NaN         8473           2  \n",
      "top              NaN  Anton Woody        True  \n",
      "freq             NaN            2        4378  \n",
      "mean      304.854791          NaN         NaN  \n",
      "std      1145.717189          NaN         NaN  \n",
      "min         0.000000          NaN         NaN  \n",
      "25%         0.000000          NaN         NaN  \n",
      "50%         0.000000          NaN         NaN  \n",
      "75%        46.000000          NaN         NaN  \n",
      "max     24133.000000          NaN         NaN  \n",
      "############ Cantidad de variables nulas: ############\n",
      "PassengerId       0\n",
      "HomePlanet      201\n",
      "CryoSleep       217\n",
      "Cabin           199\n",
      "Destination     182\n",
      "Age             179\n",
      "VIP             203\n",
      "RoomService     181\n",
      "FoodCourt       183\n",
      "ShoppingMall    208\n",
      "Spa             183\n",
      "VRDeck          188\n",
      "Name            200\n",
      "Transported       0\n",
      "dtype: int64\n"
     ]
    }
   ],
   "source": [
    "import pandas as pd\n",
    "import numpy as np\n",
    "\n",
    "train_data = pd.read_csv('train.csv')\n",
    "\n",
    "print(\"############ Primeras filas de los datos de entrenamiento: ############\")\n",
    "print(train_data.head())\n",
    "print(\"############ Informacion de los datos de entrenamiento: ############\")\n",
    "print(train_data.info())\n",
    "print(\"############ Resumen estadistico: ############\")\n",
    "print(train_data.describe(include='all'))\n",
    "print(\"############ Cantidad de variables nulas: ############\")\n",
    "print(train_data.isnull().sum())\n",
    "\n",
    "#Eliminacion de valores nulos\n",
    "train_data = train_data.dropna()\n",
    "\n"
   ]
  },
  {
   "cell_type": "markdown",
   "metadata": {},
   "source": [
    "<h3>2. Genera un modelo de regresión logística multinomial y evalúa la calidad del método\n",
    "usando alguna forma de validación cruzada.</h3>"
   ]
  },
  {
   "cell_type": "code",
   "execution_count": 48,
   "metadata": {},
   "outputs": [
    {
     "name": "stdout",
     "output_type": "stream",
     "text": [
      "Regresión logística Multinomial - Accuracy: 0.6849849000379076\n",
      "Desviacion estandar del accuracy:  0.01775943245608436\n"
     ]
    }
   ],
   "source": [
    "from sklearn.model_selection import cross_val_score\n",
    "from sklearn.linear_model import LogisticRegression\n",
    "from sklearn.pipeline import make_pipeline\n",
    "from sklearn.preprocessing import StandardScaler\n",
    "\n",
    "def procesar_cabin(df):\n",
    "    df[['Deck', 'Cabin_num', 'Side']] = df['Cabin'].str.split('/', expand=True)\n",
    "    return df\n",
    "\n",
    "train_data = procesar_cabin(train_data)\n",
    "X = train_data.drop(columns=['Transported', 'PassengerId', 'Name', 'Cabin'])\n",
    "y = train_data['Transported']\n",
    "\n",
    "X = pd.get_dummies(X)\n",
    "log_modelo = LogisticRegression(max_iter=8000)\n",
    "pipe_log = make_pipeline(StandardScaler(), log_modelo)\n",
    "#Validacion cruzada K-fold CV\n",
    "log_scores = cross_val_score(pipe_log, X, y, cv=5, scoring='accuracy')\n",
    "print(\"Regresión logística Multinomial - Accuracy:\", log_scores.mean())\n",
    "print(\"Desviacion estandar del accuracy: \", log_scores.std())"
   ]
  },
  {
   "cell_type": "markdown",
   "metadata": {},
   "source": [
    "<h3>3. Genera un modelo de LDA, evalúa la calidad del método usando alguna forma de\n",
    "validación cruzada, y compara los resultados con la metodología anterior.</h3>"
   ]
  },
  {
   "cell_type": "code",
   "execution_count": null,
   "metadata": {},
   "outputs": [
    {
     "name": "stdout",
     "output_type": "stream",
     "text": [
      "LDA - Accuracy: 0.7010292253267079\n",
      "Desviacion estandar del accuracy:  0.018277073634508124\n"
     ]
    }
   ],
   "source": [
    "from sklearn.discriminant_analysis import LinearDiscriminantAnalysis\n",
    "\n",
    "lda_modelo = LinearDiscriminantAnalysis()\n",
    "pipe_lda = make_pipeline(StandardScaler(), lda_modelo)\n",
    "lda_scores = cross_val_score(pipe_lda, X, y, cv=5, scoring='accuracy')\n",
    "print(\"LDA - Accuracy:\", lda_scores.mean())\n",
    "print(\"Desviacion estandar del accuracy: \", lda_scores.std())"
   ]
  },
  {
   "cell_type": "markdown",
   "metadata": {},
   "source": [
    "<h3>4. Genera un modelo de árbol de decisión, evalúa la calidad del método usando alguna\n",
    "forma de validación cruzada, y compara los resultados con las metodologías anteriores</h3>"
   ]
  },
  {
   "cell_type": "code",
   "execution_count": null,
   "metadata": {},
   "outputs": [
    {
     "name": "stdout",
     "output_type": "stream",
     "text": [
      "Arbol de decision - Accuracy: 0.7845938012851861\n",
      "Desviacion estandar del accuracy:  0.015358414613745194\n"
     ]
    }
   ],
   "source": [
    "from sklearn.tree import DecisionTreeClassifier\n",
    "from sklearn.model_selection import GridSearchCV\n",
    "\n",
    "params_tree = {'max_depth': [5, 10, 15]}\n",
    "grid_tree = GridSearchCV(DecisionTreeClassifier(), params_tree, cv=5, scoring='accuracy')\n",
    "grid_tree.fit(X, y)\n",
    "print(\"Arbol de decision - Accuracy:\", grid_tree.best_score_)\n",
    "print(\"Desviacion estandar del accuracy: \", grid_tree.cv_results_['std_test_score'][grid_tree.best_index_])"
   ]
  },
  {
   "cell_type": "markdown",
   "metadata": {},
   "source": [
    "<h3>5. Genera un modelo de bagging, random forest o boosting, evalúa la calidad del método\n",
    "usando alguna forma de validación cruzada, y compara los resultados con las\n",
    "metodología anteriores. Si así lo prefieres, puedes realizar una comparación general al\n",
    "final, en vez de ir comparando cada que se trabaja una metodología distinta.</h3>"
   ]
  },
  {
   "cell_type": "code",
   "execution_count": null,
   "metadata": {},
   "outputs": [
    {
     "name": "stdout",
     "output_type": "stream",
     "text": [
      "Random Forest - Accuracy: 0.7960974872334602\n",
      "Desviacion estandar del accuracy:  0.012463340459486383\n"
     ]
    }
   ],
   "source": [
    "#Modelo Random Forest\n",
    "from sklearn.ensemble import RandomForestClassifier\n",
    "\n",
    "params_rf = {'n_estimators': [100, 200], 'max_depth': [None, 10, 20]}\n",
    "grid_rf = GridSearchCV(RandomForestClassifier(), params_rf, cv=5, scoring='accuracy')\n",
    "grid_rf.fit(X, y)\n",
    "print(\"Random Forest - Accuracy:\", grid_rf.best_score_)\n",
    "print(\"Desviacion estandar del accuracy: \", grid_rf.cv_results_['std_test_score'][grid_tree.best_index_])"
   ]
  },
  {
   "cell_type": "markdown",
   "metadata": {},
   "source": [
    "<h3>Comparacion de Resultados de los Modelos</h3>\n",
    "\n",
    "Regresion Logistica Multinomial  - Accuracy: 0.6849 - Desviacion estandar el accuracy: 0.01775\n",
    "\n",
    "LDA - Accuracy: 0.7010 - Desviacion estandar el accuracy: 0.01827\n",
    "\n",
    "Arbol de Decisiones - Accuracy: 0.7845 - Desviacion estandar el accuracy: 0.01535\n",
    "\n",
    "Random Forest - Accuracy: 0.7960 - Desviacion estandar el accuracy: 0.01246\n",
    "\n",
    "Viendo la calidad de cada modelo usando la metrica de accuracy o precision obtenida mediante el uso de validacion cruzada por k-folds y GridSearchCV, se puede apreciar que de los 4 modelos de Regresion Logistica, LDA, Arbol de Deciciones y Random Forest, el Random Forest tuvo un mejor rendimiento a comparacion de los otros modelos, si nos vamos por la metrica de la desviacion estandar del accuracy el que tiene mejor resultado seria igualmente el Random Forest.\n",
    "\n",
    "Lo que se puede concluir por los resultados es que el que tiene mejor rendimiento de todos los modelos es Random Forest, tambien el hecho de que Random forest tiene menor variabilidad en su presicion, por lo que con las metricas que obtuvimos se puede concluir que el modelo mas optimo es el de Random Forest, por lo que es el modelo que se usara."
   ]
  },
  {
   "cell_type": "markdown",
   "metadata": {},
   "source": [
    "<h3>6. Selecciona o genera un nuevo modelo y úsalo para predecir la clase de los datos de\n",
    "prueba. La calidad de tu modelo se medirá exclusivamente con la métrica de exactitud\n",
    "(accuracy).</h3>"
   ]
  },
  {
   "cell_type": "code",
   "execution_count": 49,
   "metadata": {},
   "outputs": [],
   "source": [
    "test_data = pd.read_csv('test.csv')\n",
    "test_data = procesar_cabin(test_data)\n",
    "\n",
    "X_test = test_data.drop(columns=['PassengerId', 'Name', 'Cabin'])\n",
    "X_test = pd.get_dummies(X_test)\n",
    "X_test = X_test.reindex(columns=X.columns, fill_value=0)\n",
    "\n",
    "params_mmrf = {'n_estimators': [100, 200], 'max_depth': [None, 10, 20]}\n",
    "mejor_modelo_rf = GridSearchCV(RandomForestClassifier(), params_mmrf, cv=5, scoring='accuracy')\n",
    "mejor_modelo_rf.fit(X, y)\n",
    "predicciones = mejor_modelo_rf.predict(X_test)\n",
    "\n",
    "submission = pd.DataFrame({\n",
    "    'PassengerId': test_data['PassengerId'], \n",
    "    'Transported': predicciones\n",
    "})\n",
    "submission.to_csv('submission.csv', index=False)"
   ]
  },
  {
   "attachments": {
    "image.png": {
     "image/png": "[encoded data removed]"
    }
   },
   "cell_type": "markdown",
   "metadata": {},
   "source": [
    "<h3>Conclusion</h3>\n",
    "En conclusion, en este proyecto se vieron muchos de los temas de este segundo parcial que fueron los que nos ayudaron en realizar este proyecto. Se hicieron los modelos de los cuales mediante validacion cruzada se pudo sacar la precision del modelo lo cual al usar la precision como metrica para escoger nuestro modelo, al final use Random Forest que fue capaz de superar a los demas modelos en cuestion de precision y estabilidad. \n",
    "\n",
    "La precision que tuvo el modelo final segun Kaggle fue de 0.79775, que es un valor parecido al obtenido usando la base de datos de entrenamiento. Aunque tuve ayuda del uso de ChatGPT en cuestion de arreglar y optimizar la base de datos debido a que la variable \"Cabin\" daba problemas en cuestion del procesamiento de los modelos, especialmente el de Random Forest. Para terminar al final aunque el modelo final no fue capaz de posicionarse en el top de 25%, aun asi me alegra que se haya posicionado bien en la leaderboard.\n",
    "\n",
    "Referencias: OpenAI. (2025). Asistencia personalizada para proyecto de clasificación. ChatGPT. https://chat.openai.com/\n",
    "\n",
    "\n",
    "![image.png](attachment:image.png)"
   ]
  }
 ],
 "metadata": {
  "kernelspec": {
   "display_name": "Python 3",
   "language": "python",
   "name": "python3"
  },
  "language_info": {
   "codemirror_mode": {
    "name": "ipython",
    "version": 3
   },
   "file_extension": ".py",
   "mimetype": "text/x-python",
   "name": "python",
   "nbconvert_exporter": "python",
   "pygments_lexer": "ipython3",
   "version": "3.13.1"
  }
 },
 "nbformat": 4,
 "nbformat_minor": 2
}
